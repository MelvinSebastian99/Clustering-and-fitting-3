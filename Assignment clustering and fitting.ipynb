{
 "cells": [
  {
   "cell_type": "code",
   "execution_count": 1,
   "id": "6719ad48",
   "metadata": {},
   "outputs": [],
   "source": [
    "# https://data.worldbank.org/indicator/FI.RES.TOTL.CD"
   ]
  },
  {
   "cell_type": "code",
   "execution_count": 64,
   "id": "615e91be",
   "metadata": {},
   "outputs": [],
   "source": [
    "import warnings\n",
    "warnings.filterwarnings(\"ignore\")\n",
    "import pandas as pd\n",
    "import numpy as np\n",
    "import matplotlib.pyplot as plt\n",
    "import seaborn as sns\n",
    "from sklearn.preprocessing import RobustScaler\n",
    "import sklearn.metrics as skmet\n",
    "from sklearn.cluster import KMeans\n",
    "import scipy.optimize as opt\n",
    "import numpy as np\n",
    "import errors"
   ]
  },
  {
   "cell_type": "code",
   "execution_count": 3,
   "id": "39d8033f",
   "metadata": {},
   "outputs": [],
   "source": [
    "def worldbank_data(filename):\n",
    "    \"\"\"\n",
    "    Imports World Bank data.\n",
    "\n",
    "    Returns:\n",
    "    - Original Data.\n",
    "    - Transposed Data.\n",
    "    \"\"\"    \n",
    "    df = pd.read_csv(filename, skiprows=4)\n",
    "    df_T = df.set_index(df.columns[0]).transpose()\n",
    "    \n",
    "    return df, df_T"
   ]
  },
  {
   "cell_type": "code",
   "execution_count": 8,
   "id": "4d8fa092",
   "metadata": {},
   "outputs": [],
   "source": [
    "df, df_T = worldbank_data('API_FI.RES.TOTL.CD_DS2_en_csv_v2_6298254.csv')"
   ]
  },
  {
   "cell_type": "code",
   "execution_count": 9,
   "id": "879613f3",
   "metadata": {},
   "outputs": [
    {
     "data": {
      "text/html": [
       "<div>\n",
       "<style scoped>\n",
       "    .dataframe tbody tr th:only-of-type {\n",
       "        vertical-align: middle;\n",
       "    }\n",
       "\n",
       "    .dataframe tbody tr th {\n",
       "        vertical-align: top;\n",
       "    }\n",
       "\n",
       "    .dataframe thead th {\n",
       "        text-align: right;\n",
       "    }\n",
       "</style>\n",
       "<table border=\"1\" class=\"dataframe\">\n",
       "  <thead>\n",
       "    <tr style=\"text-align: right;\">\n",
       "      <th></th>\n",
       "      <th>Country Name</th>\n",
       "      <th>Country Code</th>\n",
       "      <th>Indicator Name</th>\n",
       "      <th>Indicator Code</th>\n",
       "      <th>1960</th>\n",
       "      <th>1961</th>\n",
       "      <th>1962</th>\n",
       "      <th>1963</th>\n",
       "      <th>1964</th>\n",
       "      <th>1965</th>\n",
       "      <th>...</th>\n",
       "      <th>2014</th>\n",
       "      <th>2015</th>\n",
       "      <th>2016</th>\n",
       "      <th>2017</th>\n",
       "      <th>2018</th>\n",
       "      <th>2019</th>\n",
       "      <th>2020</th>\n",
       "      <th>2021</th>\n",
       "      <th>2022</th>\n",
       "      <th>Unnamed: 67</th>\n",
       "    </tr>\n",
       "  </thead>\n",
       "  <tbody>\n",
       "    <tr>\n",
       "      <th>0</th>\n",
       "      <td>Aruba</td>\n",
       "      <td>ABW</td>\n",
       "      <td>Total reserves (includes gold, current US$)</td>\n",
       "      <td>FI.RES.TOTL.CD</td>\n",
       "      <td>NaN</td>\n",
       "      <td>NaN</td>\n",
       "      <td>NaN</td>\n",
       "      <td>NaN</td>\n",
       "      <td>NaN</td>\n",
       "      <td>NaN</td>\n",
       "      <td>...</td>\n",
       "      <td>6.803510e+08</td>\n",
       "      <td>8.158006e+08</td>\n",
       "      <td>9.225509e+08</td>\n",
       "      <td>9.071115e+08</td>\n",
       "      <td>9.802477e+08</td>\n",
       "      <td>9.823000e+08</td>\n",
       "      <td>1.212579e+09</td>\n",
       "      <td>1.512960e+09</td>\n",
       "      <td>1.543941e+09</td>\n",
       "      <td>NaN</td>\n",
       "    </tr>\n",
       "    <tr>\n",
       "      <th>1</th>\n",
       "      <td>Africa Eastern and Southern</td>\n",
       "      <td>AFE</td>\n",
       "      <td>Total reserves (includes gold, current US$)</td>\n",
       "      <td>FI.RES.TOTL.CD</td>\n",
       "      <td>NaN</td>\n",
       "      <td>NaN</td>\n",
       "      <td>NaN</td>\n",
       "      <td>NaN</td>\n",
       "      <td>NaN</td>\n",
       "      <td>NaN</td>\n",
       "      <td>...</td>\n",
       "      <td>NaN</td>\n",
       "      <td>NaN</td>\n",
       "      <td>NaN</td>\n",
       "      <td>NaN</td>\n",
       "      <td>NaN</td>\n",
       "      <td>NaN</td>\n",
       "      <td>NaN</td>\n",
       "      <td>NaN</td>\n",
       "      <td>NaN</td>\n",
       "      <td>NaN</td>\n",
       "    </tr>\n",
       "    <tr>\n",
       "      <th>2</th>\n",
       "      <td>Afghanistan</td>\n",
       "      <td>AFG</td>\n",
       "      <td>Total reserves (includes gold, current US$)</td>\n",
       "      <td>FI.RES.TOTL.CD</td>\n",
       "      <td>50690800.0</td>\n",
       "      <td>42444500.0</td>\n",
       "      <td>40592100.0</td>\n",
       "      <td>45547800.0</td>\n",
       "      <td>44619680.0</td>\n",
       "      <td>45434560.0</td>\n",
       "      <td>...</td>\n",
       "      <td>7.528550e+09</td>\n",
       "      <td>6.976966e+09</td>\n",
       "      <td>7.281911e+09</td>\n",
       "      <td>8.097281e+09</td>\n",
       "      <td>8.206682e+09</td>\n",
       "      <td>8.497656e+09</td>\n",
       "      <td>9.748946e+09</td>\n",
       "      <td>NaN</td>\n",
       "      <td>NaN</td>\n",
       "      <td>NaN</td>\n",
       "    </tr>\n",
       "  </tbody>\n",
       "</table>\n",
       "<p>3 rows × 68 columns</p>\n",
       "</div>"
      ],
      "text/plain": [
       "                  Country Name Country Code  \\\n",
       "0                        Aruba          ABW   \n",
       "1  Africa Eastern and Southern          AFE   \n",
       "2                  Afghanistan          AFG   \n",
       "\n",
       "                                Indicator Name  Indicator Code        1960  \\\n",
       "0  Total reserves (includes gold, current US$)  FI.RES.TOTL.CD         NaN   \n",
       "1  Total reserves (includes gold, current US$)  FI.RES.TOTL.CD         NaN   \n",
       "2  Total reserves (includes gold, current US$)  FI.RES.TOTL.CD  50690800.0   \n",
       "\n",
       "         1961        1962        1963        1964        1965  ...  \\\n",
       "0         NaN         NaN         NaN         NaN         NaN  ...   \n",
       "1         NaN         NaN         NaN         NaN         NaN  ...   \n",
       "2  42444500.0  40592100.0  45547800.0  44619680.0  45434560.0  ...   \n",
       "\n",
       "           2014          2015          2016          2017          2018  \\\n",
       "0  6.803510e+08  8.158006e+08  9.225509e+08  9.071115e+08  9.802477e+08   \n",
       "1           NaN           NaN           NaN           NaN           NaN   \n",
       "2  7.528550e+09  6.976966e+09  7.281911e+09  8.097281e+09  8.206682e+09   \n",
       "\n",
       "           2019          2020          2021          2022  Unnamed: 67  \n",
       "0  9.823000e+08  1.212579e+09  1.512960e+09  1.543941e+09          NaN  \n",
       "1           NaN           NaN           NaN           NaN          NaN  \n",
       "2  8.497656e+09  9.748946e+09           NaN           NaN          NaN  \n",
       "\n",
       "[3 rows x 68 columns]"
      ]
     },
     "execution_count": 9,
     "metadata": {},
     "output_type": "execute_result"
    }
   ],
   "source": [
    "df.head(3)"
   ]
  },
  {
   "cell_type": "code",
   "execution_count": 21,
   "id": "0d4bcd71",
   "metadata": {},
   "outputs": [],
   "source": [
    "columns_to_select = ['Country Name', 'Indicator Name'] + list(map(str, range(2000, 2023)))\n",
    "df_sub = pd.DataFrame()\n",
    "for column in columns_to_select:\n",
    "    df_sub[column] = df[column]\n",
    "df_sub = df_sub.dropna()\n",
    "df_subx = pd.DataFrame()\n",
    "df_subx[\"Country Name\"] = df_sub[\"Country Name\"]\n",
    "df_subx[\"2022\"] = df_sub[\"2022\"].copy()"
   ]
  },
  {
   "cell_type": "code",
   "execution_count": 22,
   "id": "293b74c5",
   "metadata": {},
   "outputs": [
    {
     "data": {
      "text/html": [
       "<div>\n",
       "<style scoped>\n",
       "    .dataframe tbody tr th:only-of-type {\n",
       "        vertical-align: middle;\n",
       "    }\n",
       "\n",
       "    .dataframe tbody tr th {\n",
       "        vertical-align: top;\n",
       "    }\n",
       "\n",
       "    .dataframe thead th {\n",
       "        text-align: right;\n",
       "    }\n",
       "</style>\n",
       "<table border=\"1\" class=\"dataframe\">\n",
       "  <thead>\n",
       "    <tr style=\"text-align: right;\">\n",
       "      <th></th>\n",
       "      <th>Country Name</th>\n",
       "      <th>2022</th>\n",
       "      <th>Growth Since 2000 (%)</th>\n",
       "    </tr>\n",
       "  </thead>\n",
       "  <tbody>\n",
       "    <tr>\n",
       "      <th>0</th>\n",
       "      <td>Aruba</td>\n",
       "      <td>1.543941e+09</td>\n",
       "      <td>555.726398</td>\n",
       "    </tr>\n",
       "    <tr>\n",
       "      <th>4</th>\n",
       "      <td>Angola</td>\n",
       "      <td>1.365472e+10</td>\n",
       "      <td>1039.590614</td>\n",
       "    </tr>\n",
       "    <tr>\n",
       "      <th>5</th>\n",
       "      <td>Albania</td>\n",
       "      <td>5.266464e+09</td>\n",
       "      <td>714.856464</td>\n",
       "    </tr>\n",
       "    <tr>\n",
       "      <th>8</th>\n",
       "      <td>United Arab Emirates</td>\n",
       "      <td>1.384333e+11</td>\n",
       "      <td>915.530817</td>\n",
       "    </tr>\n",
       "    <tr>\n",
       "      <th>9</th>\n",
       "      <td>Argentina</td>\n",
       "      <td>4.479534e+10</td>\n",
       "      <td>78.097672</td>\n",
       "    </tr>\n",
       "  </tbody>\n",
       "</table>\n",
       "</div>"
      ],
      "text/plain": [
       "           Country Name          2022  Growth Since 2000 (%)\n",
       "0                 Aruba  1.543941e+09             555.726398\n",
       "4                Angola  1.365472e+10            1039.590614\n",
       "5               Albania  5.266464e+09             714.856464\n",
       "8  United Arab Emirates  1.384333e+11             915.530817\n",
       "9             Argentina  4.479534e+10              78.097672"
      ]
     },
     "execution_count": 22,
     "metadata": {},
     "output_type": "execute_result"
    }
   ],
   "source": [
    "df_subx[\"Growth Since 2000 (%)\"] = 100.0 * (df[\"2022\"] - df[\"2000\"]) / (df[\"2000\"])\n",
    "df_subx.head()"
   ]
  },
  {
   "cell_type": "code",
   "execution_count": 73,
   "id": "f2ce5743",
   "metadata": {},
   "outputs": [],
   "source": [
    "z_scores = (df_subx[['2022', 'Growth Since 2000 (%)']] - df_subx[['2022', 'Growth Since 2000 (%)']].mean()) / df_subx[['2022', 'Growth Since 2000 (%)']].std()\n",
    "threshold = 3\n",
    "df_subx = df_subx[(np.abs(z_scores) < threshold).all(axis=1)]"
   ]
  },
  {
   "cell_type": "code",
   "execution_count": 74,
   "id": "b72c771d",
   "metadata": {},
   "outputs": [
    {
     "data": {
      "text/html": [
       "<div>\n",
       "<style scoped>\n",
       "    .dataframe tbody tr th:only-of-type {\n",
       "        vertical-align: middle;\n",
       "    }\n",
       "\n",
       "    .dataframe tbody tr th {\n",
       "        vertical-align: top;\n",
       "    }\n",
       "\n",
       "    .dataframe thead th {\n",
       "        text-align: right;\n",
       "    }\n",
       "</style>\n",
       "<table border=\"1\" class=\"dataframe\">\n",
       "  <thead>\n",
       "    <tr style=\"text-align: right;\">\n",
       "      <th></th>\n",
       "      <th>2022</th>\n",
       "      <th>Growth Since 2000 (%)</th>\n",
       "    </tr>\n",
       "  </thead>\n",
       "  <tbody>\n",
       "    <tr>\n",
       "      <th>count</th>\n",
       "      <td>1.410000e+02</td>\n",
       "      <td>141.000000</td>\n",
       "    </tr>\n",
       "    <tr>\n",
       "      <th>mean</th>\n",
       "      <td>6.617499e+10</td>\n",
       "      <td>803.901558</td>\n",
       "    </tr>\n",
       "    <tr>\n",
       "      <th>std</th>\n",
       "      <td>1.405473e+11</td>\n",
       "      <td>790.775753</td>\n",
       "    </tr>\n",
       "    <tr>\n",
       "      <th>min</th>\n",
       "      <td>4.860669e+07</td>\n",
       "      <td>-57.074931</td>\n",
       "    </tr>\n",
       "    <tr>\n",
       "      <th>25%</th>\n",
       "      <td>2.216592e+09</td>\n",
       "      <td>283.649169</td>\n",
       "    </tr>\n",
       "    <tr>\n",
       "      <th>50%</th>\n",
       "      <td>8.761701e+09</td>\n",
       "      <td>544.757757</td>\n",
       "    </tr>\n",
       "    <tr>\n",
       "      <th>75%</th>\n",
       "      <td>5.670190e+10</td>\n",
       "      <td>1068.713715</td>\n",
       "    </tr>\n",
       "    <tr>\n",
       "      <th>max</th>\n",
       "      <td>9.236275e+11</td>\n",
       "      <td>4113.603184</td>\n",
       "    </tr>\n",
       "  </tbody>\n",
       "</table>\n",
       "</div>"
      ],
      "text/plain": [
       "               2022  Growth Since 2000 (%)\n",
       "count  1.410000e+02             141.000000\n",
       "mean   6.617499e+10             803.901558\n",
       "std    1.405473e+11             790.775753\n",
       "min    4.860669e+07             -57.074931\n",
       "25%    2.216592e+09             283.649169\n",
       "50%    8.761701e+09             544.757757\n",
       "75%    5.670190e+10            1068.713715\n",
       "max    9.236275e+11            4113.603184"
      ]
     },
     "execution_count": 74,
     "metadata": {},
     "output_type": "execute_result"
    }
   ],
   "source": [
    "df_subx.describe()"
   ]
  },
  {
   "cell_type": "code",
   "execution_count": 75,
   "id": "0b584e13",
   "metadata": {},
   "outputs": [
    {
     "data": {
      "image/png": "[encoded data removed]",
      "text/plain": [
       "<Figure size 720x432 with 1 Axes>"
      ]
     },
     "metadata": {
      "needs_background": "light"
     },
     "output_type": "display_data"
    }
   ],
   "source": [
    "plt.figure(figsize=(10, 6))\n",
    "scatter_plot = plt.scatter(df_subx[\"2022\"], df_subx[\"Growth Since 2000 (%)\"], 10, label=\"Countries\", c='black')\n",
    "plt.xlabel(\"Total reserves (includes gold, current US$) in 2022\")\n",
    "plt.ylabel(\"Growth Since 2000 (%)\")\n",
    "plt.title(\"Different Countries with Total reserves\")\n",
    "plt.legend()\n",
    "plt.show()"
   ]
  },
  {
   "cell_type": "code",
   "execution_count": 76,
   "id": "ecb831d9",
   "metadata": {},
   "outputs": [],
   "source": [
    "def data_norm(data_frame, features):\n",
    "    \"\"\"\n",
    "    Function to normalize the specified features using StandardScaler.\n",
    "\n",
    "    Returns:\n",
    "    - Normalized DataFrame.\n",
    "    \"\"\"\n",
    "    scaler = RobustScaler()\n",
    "    subset_features = data_frame[features]\n",
    "    scaler.fit(subset_features)\n",
    "    normalized_data = scaler.transform(subset_features)\n",
    "    normalized_df = pd.DataFrame(normalized_data, columns=features)\n",
    "\n",
    "    return normalized_df, scaler"
   ]
  },
  {
   "cell_type": "code",
   "execution_count": 77,
   "id": "56ef2391",
   "metadata": {},
   "outputs": [],
   "source": [
    "df_norm, scaler = data_norm(df_subx, ['2022', 'Growth Since 2000 (%)'])"
   ]
  },
  {
   "cell_type": "code",
   "execution_count": 78,
   "id": "0bd7eaca",
   "metadata": {},
   "outputs": [
    {
     "data": {
      "text/html": [
       "<div>\n",
       "<style scoped>\n",
       "    .dataframe tbody tr th:only-of-type {\n",
       "        vertical-align: middle;\n",
       "    }\n",
       "\n",
       "    .dataframe tbody tr th {\n",
       "        vertical-align: top;\n",
       "    }\n",
       "\n",
       "    .dataframe thead th {\n",
       "        text-align: right;\n",
       "    }\n",
       "</style>\n",
       "<table border=\"1\" class=\"dataframe\">\n",
       "  <thead>\n",
       "    <tr style=\"text-align: right;\">\n",
       "      <th></th>\n",
       "      <th>2022</th>\n",
       "      <th>Growth Since 2000 (%)</th>\n",
       "    </tr>\n",
       "  </thead>\n",
       "  <tbody>\n",
       "    <tr>\n",
       "      <th>0</th>\n",
       "      <td>-0.132472</td>\n",
       "      <td>0.013972</td>\n",
       "    </tr>\n",
       "    <tr>\n",
       "      <th>1</th>\n",
       "      <td>0.089804</td>\n",
       "      <td>0.630309</td>\n",
       "    </tr>\n",
       "    <tr>\n",
       "      <th>2</th>\n",
       "      <td>-0.064150</td>\n",
       "      <td>0.216668</td>\n",
       "    </tr>\n",
       "    <tr>\n",
       "      <th>3</th>\n",
       "      <td>2.379937</td>\n",
       "      <td>0.472284</td>\n",
       "    </tr>\n",
       "    <tr>\n",
       "      <th>4</th>\n",
       "      <td>0.661346</td>\n",
       "      <td>-0.594423</td>\n",
       "    </tr>\n",
       "  </tbody>\n",
       "</table>\n",
       "</div>"
      ],
      "text/plain": [
       "       2022  Growth Since 2000 (%)\n",
       "0 -0.132472               0.013972\n",
       "1  0.089804               0.630309\n",
       "2 -0.064150               0.216668\n",
       "3  2.379937               0.472284\n",
       "4  0.661346              -0.594423"
      ]
     },
     "execution_count": 78,
     "metadata": {},
     "output_type": "execute_result"
    }
   ],
   "source": [
    "df_norm.head()"
   ]
  },
  {
   "cell_type": "code",
   "execution_count": 79,
   "id": "30c44c6f",
   "metadata": {},
   "outputs": [],
   "source": [
    "def silhouette_score(xy, n):\n",
    "    \"\"\"\n",
    "    Calculates silhouette score for n clusters using KMeans++ initialization.\n",
    "\n",
    "    Returns:\n",
    "    Silhouette score.\n",
    "    \"\"\"\n",
    "    kmeans = KMeans(n_clusters=n, init='k-means++', n_init=10)\n",
    "    kmeans.fit(xy)\n",
    "    labels = kmeans.labels_\n",
    "    score = skmet.silhouette_score(xy, labels)\n",
    "    return score"
   ]
  },
  {
   "cell_type": "code",
   "execution_count": 80,
   "id": "aadfc39a",
   "metadata": {},
   "outputs": [
    {
     "name": "stdout",
     "output_type": "stream",
     "text": [
      "The silhouette score for   2 is  0.7829\n",
      "The silhouette score for   3 is  0.5972\n",
      "The silhouette score for   4 is  0.5535\n",
      "The silhouette score for   5 is  0.5593\n",
      "The silhouette score for   6 is  0.5157\n",
      "The silhouette score for   7 is  0.4851\n",
      "The silhouette score for   8 is  0.5052\n",
      "The silhouette score for   9 is  0.4450\n"
     ]
    }
   ],
   "source": [
    "for i in range(2, 10):\n",
    "    score = silhouette_score(df_norm, i)\n",
    "    print(f\"The silhouette score for {i: 3d} is {score: 7.4f}\")"
   ]
  },
  {
   "cell_type": "code",
   "execution_count": 82,
   "id": "69f44a1b",
   "metadata": {},
   "outputs": [],
   "source": [
    "kmeans = KMeans(n_clusters=2, init='k-means++', n_init=20)\n",
    "kmeans.fit(df_norm)\n",
    "labels = kmeans.labels_\n",
    "centroids = scaler.inverse_transform(kmeans.cluster_centers_)\n",
    "xkmeans, ykmeans = centroids[:, 0], centroids[:, 1]"
   ]
  },
  {
   "cell_type": "code",
   "execution_count": 91,
   "id": "a12dce11",
   "metadata": {},
   "outputs": [
    {
     "data": {
      "image/png": "[encoded data removed]",
      "text/plain": [
       "<Figure size 720x432 with 1 Axes>"
      ]
     },
     "metadata": {
      "needs_background": "light"
     },
     "output_type": "display_data"
    }
   ],
   "source": [
    "plt.figure(figsize=(10, 6))\n",
    "sns.scatterplot(x=df_subx[\"2022\"], y=df_subx[\"Growth Since 2000 (%)\"], hue=labels, palette=\"Set1\", marker=\"o\", s=10)\n",
    "plt.scatter(xkmeans, ykmeans, marker=\"x\", c=\"black\", s=50, label=\"Cluster Centroids\")\n",
    "plt.xlabel(\"Total reserves (includes gold, current US$) in 2022\")\n",
    "plt.ylabel(\"Growth Since 2000 (%)\")\n",
    "plt.title(\"Different Countries with Total reserves\")\n",
    "plt.legend()\n",
    "plt.show()"
   ]
  },
  {
   "cell_type": "code",
   "execution_count": 84,
   "id": "1b8d2f9d",
   "metadata": {},
   "outputs": [
    {
     "data": {
      "text/html": [
       "<div>\n",
       "<style scoped>\n",
       "    .dataframe tbody tr th:only-of-type {\n",
       "        vertical-align: middle;\n",
       "    }\n",
       "\n",
       "    .dataframe tbody tr th {\n",
       "        vertical-align: top;\n",
       "    }\n",
       "\n",
       "    .dataframe thead th {\n",
       "        text-align: right;\n",
       "    }\n",
       "</style>\n",
       "<table border=\"1\" class=\"dataframe\">\n",
       "  <thead>\n",
       "    <tr style=\"text-align: right;\">\n",
       "      <th>Country Name</th>\n",
       "      <th>Year</th>\n",
       "      <th>UK Reserves</th>\n",
       "    </tr>\n",
       "  </thead>\n",
       "  <tbody>\n",
       "    <tr>\n",
       "      <th>count</th>\n",
       "      <td>23.00000</td>\n",
       "      <td>2.300000e+01</td>\n",
       "    </tr>\n",
       "    <tr>\n",
       "      <th>mean</th>\n",
       "      <td>2011.00000</td>\n",
       "      <td>1.093758e+11</td>\n",
       "    </tr>\n",
       "    <tr>\n",
       "      <th>std</th>\n",
       "      <td>6.78233</td>\n",
       "      <td>4.904978e+10</td>\n",
       "    </tr>\n",
       "    <tr>\n",
       "      <th>min</th>\n",
       "      <td>2000.00000</td>\n",
       "      <td>4.741747e+10</td>\n",
       "    </tr>\n",
       "    <tr>\n",
       "      <th>25%</th>\n",
       "      <td>2005.50000</td>\n",
       "      <td>6.298089e+10</td>\n",
       "    </tr>\n",
       "    <tr>\n",
       "      <th>50%</th>\n",
       "      <td>2011.00000</td>\n",
       "      <td>1.097339e+11</td>\n",
       "    </tr>\n",
       "    <tr>\n",
       "      <th>75%</th>\n",
       "      <td>2016.50000</td>\n",
       "      <td>1.494835e+11</td>\n",
       "    </tr>\n",
       "    <tr>\n",
       "      <th>max</th>\n",
       "      <td>2022.00000</td>\n",
       "      <td>1.941814e+11</td>\n",
       "    </tr>\n",
       "  </tbody>\n",
       "</table>\n",
       "</div>"
      ],
      "text/plain": [
       "Country Name        Year   UK Reserves\n",
       "count           23.00000  2.300000e+01\n",
       "mean          2011.00000  1.093758e+11\n",
       "std              6.78233  4.904978e+10\n",
       "min           2000.00000  4.741747e+10\n",
       "25%           2005.50000  6.298089e+10\n",
       "50%           2011.00000  1.097339e+11\n",
       "75%           2016.50000  1.494835e+11\n",
       "max           2022.00000  1.941814e+11"
      ]
     },
     "execution_count": 84,
     "metadata": {},
     "output_type": "execute_result"
    }
   ],
   "source": [
    "df_uk = df_T.loc['2000':'2022', ['United Kingdom']].reset_index()\n",
    "df_uk = df_uk.rename(columns={'index': 'Year', 'United Kingdom': 'UK Reserves'})\n",
    "df_uk = df_uk.apply(pd.to_numeric, errors='coerce')\n",
    "df_uk.describe()"
   ]
  },
  {
   "cell_type": "code",
   "execution_count": 85,
   "id": "56df1163",
   "metadata": {},
   "outputs": [
    {
     "data": {
      "image/png": "[encoded data removed]",
      "text/plain": [
       "<Figure size 720x432 with 1 Axes>"
      ]
     },
     "metadata": {
      "needs_background": "light"
     },
     "output_type": "display_data"
    }
   ],
   "source": [
    "plt.figure(figsize=(10, 6))\n",
    "sns.lineplot(data = df_uk, x='Year', y='UK Reserves', color='black')\n",
    "plt.xlabel('Year')\n",
    "plt.ylabel('UK Total Reserves')\n",
    "plt.title('Total Reserves in th UK between 2000-2022')\n",
    "plt.show()"
   ]
  },
  {
   "cell_type": "code",
   "execution_count": 86,
   "id": "fe209cb2",
   "metadata": {},
   "outputs": [],
   "source": [
    "def exponential(t, n0, g):\n",
    "    \"\"\"Calculates exponential function with scale factor n0 and growth rate g.\"\"\"\n",
    "    # makes it easier to get a guess for initial parameters\n",
    "    t = t - 2010\n",
    "    f = n0 * np.exp(g*t)\n",
    "    return f"
   ]
  },
  {
   "cell_type": "code",
   "execution_count": 87,
   "id": "de513510",
   "metadata": {},
   "outputs": [],
   "source": [
    "param, covar = opt.curve_fit(exponential, df_uk[\"Year\"], df_uk[\"UK Reserves\"], p0=(1e11, 0.1))\n",
    "df_uk[\"fit\"] = exponential(df_uk[\"Year\"], *param)"
   ]
  },
  {
   "cell_type": "code",
   "execution_count": 88,
   "id": "baee2ea6",
   "metadata": {},
   "outputs": [
    {
     "data": {
      "image/png": "[encoded data removed]",
      "text/plain": [
       "<Figure size 720x432 with 1 Axes>"
      ]
     },
     "metadata": {
      "needs_background": "light"
     },
     "output_type": "display_data"
    }
   ],
   "source": [
    "plt.figure(figsize=(10, 6))\n",
    "sns.lineplot(data=df_uk, x=\"Year\", y=\"UK Reserves\", label=\"UK Reserves\", color='black')\n",
    "sns.lineplot(data=df_uk, x=\"Year\", y=\"fit\", label=\"Exp Prediction\", color='red')\n",
    "plt.xlabel('Year')\n",
    "plt.ylabel('UK Total Reserves')\n",
    "plt.title('Total Reserves in th UK between 2000-2022')\n",
    "plt.legend()\n",
    "plt.show()"
   ]
  },
  {
   "cell_type": "code",
   "execution_count": 89,
   "id": "38d06dcd",
   "metadata": {},
   "outputs": [],
   "source": [
    "import errors\n",
    "years = np.arange(2022, 2034, 1)\n",
    "predictions = exponential(years, *param)\n",
    "confidence_range = errors.error_prop(years, exponential, param, covar)"
   ]
  },
  {
   "cell_type": "code",
   "execution_count": 90,
   "id": "6411f2f8",
   "metadata": {},
   "outputs": [
    {
     "data": {
      "image/png": "[encoded data removed]",
      "text/plain": [
       "<Figure size 720x432 with 1 Axes>"
      ]
     },
     "metadata": {
      "needs_background": "light"
     },
     "output_type": "display_data"
    }
   ],
   "source": [
    "plt.figure(figsize=(10, 6))\n",
    "sns.lineplot(x= df_uk[\"Year\"], y= df_uk[\"UK Reserves\"], label=\"UK Reserves\", color='black')\n",
    "sns.lineplot(x=years, y=predictions, label=\"Prediction\", color='red')\n",
    "plt.fill_between(years, predictions - confidence_range, predictions + confidence_range, \n",
    "                 color='red', alpha=0.4, label=\"Confidence Range\")\n",
    "plt.xlabel('Year')\n",
    "plt.ylabel('UK Total Reserves')\n",
    "plt.title('Total Reserves in th UK Prediction')\n",
    "plt.legend()\n",
    "plt.show()"
   ]
  },
  {
   "cell_type": "code",
   "execution_count": null,
   "id": "e3e2b4e5",
   "metadata": {},
   "outputs": [],
   "source": []
  }
 ],
 "metadata": {
  "kernelspec": {
   "display_name": "Python 3",
   "language": "python",
   "name": "python3"
  },
  "language_info": {
   "codemirror_mode": {
    "name": "ipython",
    "version": 3
   },
   "file_extension": ".py",
   "mimetype": "text/x-python",
   "name": "python",
   "nbconvert_exporter": "python",
   "pygments_lexer": "ipython3",
   "version": "3.8.8"
  }
 },
 "nbformat": 4,
 "nbformat_minor": 5
}
